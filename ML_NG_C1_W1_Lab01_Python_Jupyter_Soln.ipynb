{
  "nbformat": 4,
  "nbformat_minor": 0,
  "metadata": {
    "colab": {
      "provenance": [],
      "authorship_tag": "ABX9TyNs8BXUb5dwEo0SDgP9mJ+Z",
      "include_colab_link": true
    },
    "kernelspec": {
      "name": "python3",
      "display_name": "Python 3"
    },
    "language_info": {
      "name": "python"
    }
  },
  "cells": [
    {
      "cell_type": "markdown",
      "metadata": {
        "id": "view-in-github",
        "colab_type": "text"
      },
      "source": [
        "<a href=\"https://colab.research.google.com/github/akhreiss/ML_NG/blob/main/ML_NG_C1_W1_Lab01_Python_Jupyter_Soln.ipynb\" target=\"_parent\"><img src=\"https://colab.research.google.com/assets/colab-badge.svg\" alt=\"Open In Colab\"/></a>"
      ]
    },
    {
      "cell_type": "markdown",
      "source": [
        "# This is the first optional lab in the series\n",
        "\n",
        "---\n",
        "\n",
        "\n",
        "It is just a demo, to test and get used of Jupyter\n",
        "\n",
        "*   Explore Jupyter, and get familiar with.\n",
        "*   Know the breakdown and code cells, and the difference.\n",
        "*   Know how to run a cell.\n",
        "*   Practice some Pythin code.\n",
        "\n",
        "\n"
      ],
      "metadata": {
        "id": "JgWcc_XpjRez"
      }
    },
    {
      "cell_type": "code",
      "source": [],
      "metadata": {
        "id": "AtTFIFrIjVd0"
      },
      "execution_count": null,
      "outputs": []
    },
    {
      "cell_type": "markdown",
      "source": [
        "## This is a Text cell, take a look at the format and font."
      ],
      "metadata": {
        "id": "I-xmRKl_rM91"
      }
    },
    {
      "cell_type": "code",
      "source": [
        "#This is a code cell\n",
        "print(\"This is a code cell\")"
      ],
      "metadata": {
        "colab": {
          "base_uri": "https://localhost:8080/"
        },
        "id": "kxGlJzqzrSdR",
        "outputId": "e490a007-7aae-48ce-d6e6-648ce0ba9e91"
      },
      "execution_count": null,
      "outputs": [
        {
          "output_type": "stream",
          "name": "stdout",
          "text": [
            "This is a code cell\n"
          ]
        }
      ]
    },
    {
      "cell_type": "markdown",
      "source": [
        "To run a cell click `shift + enter`"
      ],
      "metadata": {
        "id": "hjWfyD36rxNA"
      }
    },
    {
      "cell_type": "code",
      "source": [
        "# print statements\n",
        "variable = \"right in the strings!\"\n",
        "print(f\"f strings allow you to embed variables {variable}\")"
      ],
      "metadata": {
        "colab": {
          "base_uri": "https://localhost:8080/"
        },
        "id": "G7VumwQhr2-k",
        "outputId": "40e4b6d7-9c0a-452e-a0de-fc777b772bd6"
      },
      "execution_count": null,
      "outputs": [
        {
          "output_type": "stream",
          "name": "stdout",
          "text": [
            "f strings allow you to embed variables right in the strings!\n"
          ]
        }
      ]
    },
    {
      "cell_type": "code",
      "source": [],
      "metadata": {
        "id": "5sp45L1Ur9h1"
      },
      "execution_count": null,
      "outputs": []
    },
    {
      "cell_type": "markdown",
      "source": [
        "# **Thats all! thank you**"
      ],
      "metadata": {
        "id": "4x-Njfd7r_Wa"
      }
    },
    {
      "cell_type": "code",
      "source": [],
      "metadata": {
        "id": "y3mpBjoBsLG_"
      },
      "execution_count": null,
      "outputs": []
    }
  ]
}