{
  "cells": [
    {
      "cell_type": "markdown",
      "metadata": {
        "id": "view-in-github",
        "colab_type": "text"
      },
      "source": [
        "<a href=\"https://colab.research.google.com/github/akhreiss/ML_NG/blob/main/ML_NG_C1_W1_Lab03_Cost_function_Soln.ipynb\" target=\"_parent\"><img src=\"https://colab.research.google.com/assets/colab-badge.svg\" alt=\"Open In Colab\"/></a>"
      ]
    },
    {
      "cell_type": "markdown",
      "id": "94d7d483",
      "metadata": {
        "id": "94d7d483"
      },
      "source": [
        "# Optional  Lab: Cost Function\n",
        "<figure>\n",
        "    <center> <img src=\"./images/C1_W1_L3_S2_Lecture_b.png\"  style=\"width:1000px;height:200px;\" ></center>\n",
        "</figure>\n",
        "\n"
      ]
    },
    {
      "cell_type": "markdown",
      "id": "d6361de2",
      "metadata": {
        "id": "d6361de2"
      },
      "source": [
        "## Goals\n",
        "In this lab you will:\n",
        "- implement and explore the `cost` function for linear regression with one variable.\n"
      ]
    },
    {
      "cell_type": "markdown",
      "id": "b7db5ce5",
      "metadata": {
        "id": "b7db5ce5"
      },
      "source": [
        "## Tools\n",
        "In this lab we will make use of:\n",
        "- NumPy, a popular library for scientific computing\n",
        "- Matplotlib, a popular library for plotting data\n",
        "- local plotting routines in the lab_utils_uni.py file in the local directory"
      ]
    },
    {
      "cell_type": "code",
      "execution_count": 6,
      "id": "9662f501",
      "metadata": {
        "height": 98,
        "id": "9662f501"
      },
      "outputs": [],
      "source": [
        "import numpy as np\n",
        "#%matplotlib widget\n",
        "import matplotlib.pyplot as plt\n",
        "#from lab_utils_uni import plt_intuition, plt_stationary, plt_update_onclick, soup_bowl\n",
        "#plt.style.use('./deeplearning.mplstyle')"
      ]
    },
    {
      "cell_type": "markdown",
      "id": "5a49f0cc",
      "metadata": {
        "id": "5a49f0cc"
      },
      "source": [
        "## Problem Statement\n",
        "\n",
        "You would like a model which can predict housing prices given the size of the house.  \n",
        "Let's use the same two data points as the previous lab - a house with 1000 square feet sold for \\\\$300,000 and a house with 2000 square feet sold for \\\\$500,000.\n",
        "\n",
        "\n",
        "| Size (1000 sqft)     | Price (1000s of dollars) |\n",
        "| -------------------| ------------------------ |\n",
        "| 1                 | 300                      |\n",
        "| 2                  | 500                      |\n"
      ]
    },
    {
      "cell_type": "code",
      "execution_count": 7,
      "id": "81fa77ed",
      "metadata": {
        "height": 47,
        "id": "81fa77ed"
      },
      "outputs": [],
      "source": [
        "x_train = np.array([1.0, 2.0])           #(size in 1000 square feet)\n",
        "y_train = np.array([300.0, 500.0])           #(price in 1000s of dollars)"
      ]
    },
    {
      "cell_type": "markdown",
      "id": "fcc32a63",
      "metadata": {
        "id": "fcc32a63"
      },
      "source": [
        "## Computing Cost\n",
        "The term 'cost' in this assignment might be a little confusing since the data is housing cost. Here, cost is a measure of how well our model is predicting the target price of the house. The term 'price' is used for housing data.\n",
        "\n",
        "The equation for cost with one variable is:\n",
        "  $$J(w,b) = \\frac{1}{2m} \\sum\\limits_{i = 0}^{m-1} (f_{w,b}(x^{(i)}) - y^{(i)})^2 \\tag{1}$$\n",
        "\n",
        "where\n",
        "  $$f_{w,b}(x^{(i)}) = wx^{(i)} + b \\tag{2}$$\n",
        "  \n",
        "- $f_{w,b}(x^{(i)})$ is our prediction for example $i$ using parameters $w,b$.  \n",
        "- $(f_{w,b}(x^{(i)}) -y^{(i)})^2$ is the squared difference between the target value and the prediction.   \n",
        "- These differences are summed over all the $m$ examples and divided by `2m` to produce the cost, $J(w,b)$.  \n",
        ">Note, in lecture summation ranges are typically from 1 to m, while code will be from 0 to m-1.\n"
      ]
    },
    {
      "cell_type": "markdown",
      "id": "61b2d4dd",
      "metadata": {
        "id": "61b2d4dd"
      },
      "source": [
        "The code below calculates cost by looping over each example. In each loop:\n",
        "- `f_wb`, a prediction is calculated\n",
        "- the difference between the target and the prediction is calculated and squared.\n",
        "- this is added to the total cost."
      ]
    },
    {
      "cell_type": "code",
      "execution_count": 22,
      "id": "76361701",
      "metadata": {
        "height": 421,
        "id": "76361701"
      },
      "outputs": [],
      "source": [
        "#we will write the function that calcutae the cost of the linear regression model, based on w and b\n",
        "def calculate_cost(x, y, w, b):\n",
        "  m = x_train.shape[0]\n",
        "  cost_sum = 0\n",
        "  for i in range(m):\n",
        "    cost = ((w*x[i] + b) - y[i])**2\n",
        "    cost_sum = cost_sum + cost\n",
        "\n",
        "  total_cost = (1/(2*m))*cost_sum\n",
        "\n",
        "  return total_cost\n"
      ]
    },
    {
      "cell_type": "markdown",
      "id": "fb9decd8",
      "metadata": {
        "id": "fb9decd8"
      },
      "source": [
        "## Cost Function Intuition"
      ]
    },
    {
      "cell_type": "markdown",
      "source": [
        "NOw, we have the below dataset,\n",
        "\n",
        "*   We will create a function that plots the correspondant datapoints,\n",
        "*   then plots the line for the fucntion f(x) of the model\n",
        "*   And calculate the cost for given w and b,\n",
        "\n",
        "\n"
      ],
      "metadata": {
        "id": "BihX0bmJar3x"
      },
      "id": "BihX0bmJar3x"
    },
    {
      "cell_type": "code",
      "execution_count": 23,
      "id": "3ecfc0fa",
      "metadata": {
        "height": 47,
        "id": "3ecfc0fa"
      },
      "outputs": [],
      "source": [
        "x_train = np.array([1.0, 1.7, 2.0, 2.5, 3.0, 3.2])\n",
        "y_train = np.array([250, 300, 480,  430,   630, 730,])"
      ]
    },
    {
      "cell_type": "code",
      "source": [
        "def plot_graph(x, y, w, b):\n",
        "  m = x_train.shape[0]\n",
        "  plt.xlabel('Area in sqr feet')\n",
        "  plt.ylabel('Price of the house')\n",
        "  plt.title('plotting points and model line, ' + 'cost=' + str(calculate_cost(x, y, w, b)))\n",
        "  plt.scatter(x, y, marker = 'x', c = 'r')\n",
        "  plt.plot(x, w*x + b, 'b-')\n",
        "  plt.legend(['Training data', 'Model line'])\n",
        "  plt.show()"
      ],
      "metadata": {
        "id": "C_jBtrC_bnDw"
      },
      "id": "C_jBtrC_bnDw",
      "execution_count": 30,
      "outputs": []
    },
    {
      "cell_type": "code",
      "source": [
        "#you can change thw w and b everytime to see how the line changes\n",
        "plot_graph(x_train, y_train, 150, 150)"
      ],
      "metadata": {
        "colab": {
          "base_uri": "https://localhost:8080/",
          "height": 472
        },
        "id": "Mwitgc5ud395",
        "outputId": "98c87f1c-f41b-44f6-dd77-6d0875cc838c"
      },
      "id": "Mwitgc5ud395",
      "execution_count": 31,
      "outputs": [
        {
          "output_type": "display_data",
          "data": {
            "text/plain": [
              "<Figure size 640x480 with 1 Axes>"
            ],
            "image/png": "[encoded data removed]"
          },
          "metadata": {}
        }
      ]
    },
    {
      "cell_type": "markdown",
      "id": "a94e9dfc",
      "metadata": {
        "id": "a94e9dfc"
      },
      "source": [
        "# Congratulations!\n",
        "You have learned the following:\n",
        " - The cost equation provides a measure of how well your predictions match your training data.\n",
        " - Minimizing the cost can provide optimal values of $w$, $b$."
      ]
    },
    {
      "cell_type": "code",
      "execution_count": null,
      "id": "2e753989",
      "metadata": {
        "height": 30,
        "id": "2e753989"
      },
      "outputs": [],
      "source": []
    }
  ],
  "metadata": {
    "kernelspec": {
      "display_name": "Python 3 (ipykernel)",
      "language": "python",
      "name": "python3"
    },
    "language_info": {
      "codemirror_mode": {
        "name": "ipython",
        "version": 3
      },
      "file_extension": ".py",
      "mimetype": "text/x-python",
      "name": "python",
      "nbconvert_exporter": "python",
      "pygments_lexer": "ipython3",
      "version": "3.10.14"
    },
    "toc-autonumbering": false,
    "colab": {
      "provenance": [],
      "include_colab_link": true
    }
  },
  "nbformat": 4,
  "nbformat_minor": 5
}